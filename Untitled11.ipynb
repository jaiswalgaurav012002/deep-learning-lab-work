{
  "nbformat": 4,
  "nbformat_minor": 0,
  "metadata": {
    "colab": {
      "provenance": [],
      "gpuType": "T4",
      "authorship_tag": "ABX9TyMqhGoFkSqEGPZxhOrH4do/",
      "include_colab_link": true
    },
    "kernelspec": {
      "name": "python3",
      "display_name": "Python 3"
    },
    "language_info": {
      "name": "python"
    },
    "accelerator": "GPU"
  },
  "cells": [
    {
      "cell_type": "markdown",
      "metadata": {
        "id": "view-in-github",
        "colab_type": "text"
      },
      "source": [
        "<a href=\"https://colab.research.google.com/github/jaiswalgaurav012002/deep-learning-lab-work/blob/main/Untitled11.ipynb\" target=\"_parent\"><img src=\"https://colab.research.google.com/assets/colab-badge.svg\" alt=\"Open In Colab\"/></a>"
      ]
    },
    {
      "cell_type": "markdown",
      "source": [
        "implementing question 1\n"
      ],
      "metadata": {
        "id": "SaXF6VMjf2rR"
      }
    },
    {
      "cell_type": "code",
      "source": [
        "# Importing necessary libraries\n",
        "import tensorflow as tf\n",
        "from tensorflow.keras.datasets import mnist\n",
        "from tensorflow.keras.utils import to_categorical\n",
        "from tensorflow.keras.models import Sequential\n",
        "from tensorflow.keras.layers import Conv2D, MaxPooling2D, Flatten, Dense\n",
        "from tensorflow.keras.optimizers import Adam\n",
        "\n",
        "# Load the MNIST dataset\n",
        "(train_images, train_labels), (test_images, test_labels) = mnist.load_data()\n",
        "\n",
        "# Reshape and normalize the images\n",
        "train_images = train_images.reshape((train_images.shape[0], 28, 28, 1)).astype('float32') / 255\n",
        "test_images = test_images.reshape((test_images.shape[0], 28, 28, 1)).astype('float32') / 255\n",
        "\n",
        "# Convert labels to one-hot encoding\n",
        "train_labels = to_categorical(train_labels, 10)\n",
        "test_labels = to_categorical(test_labels, 10)\n",
        "\n",
        "# Define the CNN model\n",
        "model = Sequential([\n",
        "    Conv2D(32, (3, 3), activation='relu', input_shape=(28, 28, 1)),\n",
        "    MaxPooling2D((2, 2)),\n",
        "    Conv2D(64, (3, 3), activation='relu'),\n",
        "    MaxPooling2D((2, 2)),\n",
        "    Flatten(),\n",
        "    Dense(64, activation='relu'),\n",
        "    Dense(10, activation='softmax')\n",
        "])\n",
        "\n",
        "# Compile the model\n",
        "model.compile(optimizer=Adam(), loss='categorical_crossentropy', metrics=['accuracy'])\n",
        "\n",
        "# Train the model\n",
        "history = model.fit(train_images, train_labels, epochs=5, batch_size=64, validation_split=0.2)\n",
        "\n",
        "# Evaluate the model\n",
        "test_loss, test_accuracy = model.evaluate(test_images, test_labels)\n",
        "\n",
        "test_accuracy\n"
      ],
      "metadata": {
        "colab": {
          "base_uri": "https://localhost:8080/"
        },
        "id": "2FsB9bjdfUvC",
        "outputId": "54f8c38f-79aa-4ef8-a314-457aeee794bd"
      },
      "execution_count": 1,
      "outputs": [
        {
          "output_type": "stream",
          "name": "stdout",
          "text": [
            "Downloading data from https://storage.googleapis.com/tensorflow/tf-keras-datasets/mnist.npz\n",
            "11490434/11490434 [==============================] - 0s 0us/step\n",
            "Epoch 1/5\n",
            "750/750 [==============================] - 38s 49ms/step - loss: 0.2066 - accuracy: 0.9366 - val_loss: 0.0679 - val_accuracy: 0.9802\n",
            "Epoch 2/5\n",
            "750/750 [==============================] - 37s 50ms/step - loss: 0.0607 - accuracy: 0.9810 - val_loss: 0.0575 - val_accuracy: 0.9828\n",
            "Epoch 3/5\n",
            "750/750 [==============================] - 34s 45ms/step - loss: 0.0417 - accuracy: 0.9867 - val_loss: 0.0489 - val_accuracy: 0.9860\n",
            "Epoch 4/5\n",
            "750/750 [==============================] - 34s 45ms/step - loss: 0.0323 - accuracy: 0.9895 - val_loss: 0.0418 - val_accuracy: 0.9886\n",
            "Epoch 5/5\n",
            "750/750 [==============================] - 34s 46ms/step - loss: 0.0250 - accuracy: 0.9920 - val_loss: 0.0444 - val_accuracy: 0.9872\n",
            "313/313 [==============================] - 2s 7ms/step - loss: 0.0422 - accuracy: 0.9861\n"
          ]
        },
        {
          "output_type": "execute_result",
          "data": {
            "text/plain": [
              "0.9861000180244446"
            ]
          },
          "metadata": {},
          "execution_count": 1
        }
      ]
    },
    {
      "cell_type": "markdown",
      "source": [
        "implementing question 2\n"
      ],
      "metadata": {
        "id": "DTdDUcAbf7av"
      }
    },
    {
      "cell_type": "code",
      "source": [
        "!pip install tensorflow matplotlib\n",
        "import tensorflow as tf\n",
        "from tensorflow.keras.datasets import mnist\n",
        "from tensorflow.keras.utils import to_categorical\n",
        "\n",
        "(train_images, train_labels), (test_images, test_labels) = mnist.load_data()\n",
        "train_images = train_images.reshape((60000, 28, 28, 1)).astype('float32') / 255\n",
        "test_images = test_images.reshape((10000, 28, 28, 1)).astype('float32') / 255\n",
        "train_labels = to_categorical(train_labels)\n",
        "test_labels = to_categorical(test_labels)\n",
        "from tensorflow.keras import layers, models\n",
        "\n",
        "model = models.Sequential()\n",
        "model.add(layers.Conv2D(32, (3, 3), activation='relu', input_shape=(28, 28, 1)))\n",
        "model.add(layers.MaxPooling2D((2, 2)))\n",
        "model.add(layers.Conv2D(64, (3, 3), activation='relu'))\n",
        "model.add(layers.MaxPooling2D((2, 2)))\n",
        "model.add(layers.Conv2D(64, (3, 3), activation='relu'))\n",
        "model.add(layers.Flatten())\n",
        "model.add(layers.Dense(64, activation='relu'))\n",
        "model.add(layers.Dense(10, activation='softmax'))\n",
        "model.compile(optimizer='adam', loss='categorical_crossentropy', metrics=['accuracy'])\n",
        "history = model.fit(train_images, train_labels, epochs=10, batch_size=64, validation_split=0.2)\n",
        "test_loss, test_acc = model.evaluate(test_images, test_labels)\n",
        "print(f'Test accuracy: {test_acc}')\n",
        "import matplotlib.pyplot as plt\n",
        "\n",
        "acc = history.history['accuracy']\n",
        "val_acc = history.history['val_accuracy']\n",
        "epochs = range(1, len(acc) + 1)\n",
        "\n",
        "plt.plot(epochs, acc, 'bo', label='Training acc')\n",
        "plt.plot(epochs, val_acc, 'b', label='Validation acc')\n",
        "plt.title('Training and Validation Accuracy')\n",
        "plt.xlabel('Epochs')\n",
        "plt.ylabel('Accuracy')\n",
        "plt.legend()\n",
        "plt.show()\n"
      ],
      "metadata": {
        "colab": {
          "base_uri": "https://localhost:8080/",
          "height": 1000
        },
        "id": "eaxa8jKKfUx6",
        "outputId": "a71259ce-c86b-4774-ba99-93d8b4e99ae9"
      },
      "execution_count": 2,
      "outputs": [
        {
          "output_type": "stream",
          "name": "stdout",
          "text": [
            "Requirement already satisfied: tensorflow in /usr/local/lib/python3.10/dist-packages (2.15.0)\n",
            "Requirement already satisfied: matplotlib in /usr/local/lib/python3.10/dist-packages (3.7.1)\n",
            "Requirement already satisfied: absl-py>=1.0.0 in /usr/local/lib/python3.10/dist-packages (from tensorflow) (1.4.0)\n",
            "Requirement already satisfied: astunparse>=1.6.0 in /usr/local/lib/python3.10/dist-packages (from tensorflow) (1.6.3)\n",
            "Requirement already satisfied: flatbuffers>=23.5.26 in /usr/local/lib/python3.10/dist-packages (from tensorflow) (23.5.26)\n",
            "Requirement already satisfied: gast!=0.5.0,!=0.5.1,!=0.5.2,>=0.2.1 in /usr/local/lib/python3.10/dist-packages (from tensorflow) (0.5.4)\n",
            "Requirement already satisfied: google-pasta>=0.1.1 in /usr/local/lib/python3.10/dist-packages (from tensorflow) (0.2.0)\n",
            "Requirement already satisfied: h5py>=2.9.0 in /usr/local/lib/python3.10/dist-packages (from tensorflow) (3.9.0)\n",
            "Requirement already satisfied: libclang>=13.0.0 in /usr/local/lib/python3.10/dist-packages (from tensorflow) (16.0.6)\n",
            "Requirement already satisfied: ml-dtypes~=0.2.0 in /usr/local/lib/python3.10/dist-packages (from tensorflow) (0.2.0)\n",
            "Requirement already satisfied: numpy<2.0.0,>=1.23.5 in /usr/local/lib/python3.10/dist-packages (from tensorflow) (1.25.2)\n",
            "Requirement already satisfied: opt-einsum>=2.3.2 in /usr/local/lib/python3.10/dist-packages (from tensorflow) (3.3.0)\n",
            "Requirement already satisfied: packaging in /usr/local/lib/python3.10/dist-packages (from tensorflow) (23.2)\n",
            "Requirement already satisfied: protobuf!=4.21.0,!=4.21.1,!=4.21.2,!=4.21.3,!=4.21.4,!=4.21.5,<5.0.0dev,>=3.20.3 in /usr/local/lib/python3.10/dist-packages (from tensorflow) (3.20.3)\n",
            "Requirement already satisfied: setuptools in /usr/local/lib/python3.10/dist-packages (from tensorflow) (67.7.2)\n",
            "Requirement already satisfied: six>=1.12.0 in /usr/local/lib/python3.10/dist-packages (from tensorflow) (1.16.0)\n",
            "Requirement already satisfied: termcolor>=1.1.0 in /usr/local/lib/python3.10/dist-packages (from tensorflow) (2.4.0)\n",
            "Requirement already satisfied: typing-extensions>=3.6.6 in /usr/local/lib/python3.10/dist-packages (from tensorflow) (4.9.0)\n",
            "Requirement already satisfied: wrapt<1.15,>=1.11.0 in /usr/local/lib/python3.10/dist-packages (from tensorflow) (1.14.1)\n",
            "Requirement already satisfied: tensorflow-io-gcs-filesystem>=0.23.1 in /usr/local/lib/python3.10/dist-packages (from tensorflow) (0.36.0)\n",
            "Requirement already satisfied: grpcio<2.0,>=1.24.3 in /usr/local/lib/python3.10/dist-packages (from tensorflow) (1.60.1)\n",
            "Requirement already satisfied: tensorboard<2.16,>=2.15 in /usr/local/lib/python3.10/dist-packages (from tensorflow) (2.15.2)\n",
            "Requirement already satisfied: tensorflow-estimator<2.16,>=2.15.0 in /usr/local/lib/python3.10/dist-packages (from tensorflow) (2.15.0)\n",
            "Requirement already satisfied: keras<2.16,>=2.15.0 in /usr/local/lib/python3.10/dist-packages (from tensorflow) (2.15.0)\n",
            "Requirement already satisfied: contourpy>=1.0.1 in /usr/local/lib/python3.10/dist-packages (from matplotlib) (1.2.0)\n",
            "Requirement already satisfied: cycler>=0.10 in /usr/local/lib/python3.10/dist-packages (from matplotlib) (0.12.1)\n",
            "Requirement already satisfied: fonttools>=4.22.0 in /usr/local/lib/python3.10/dist-packages (from matplotlib) (4.49.0)\n",
            "Requirement already satisfied: kiwisolver>=1.0.1 in /usr/local/lib/python3.10/dist-packages (from matplotlib) (1.4.5)\n",
            "Requirement already satisfied: pillow>=6.2.0 in /usr/local/lib/python3.10/dist-packages (from matplotlib) (9.4.0)\n",
            "Requirement already satisfied: pyparsing>=2.3.1 in /usr/local/lib/python3.10/dist-packages (from matplotlib) (3.1.1)\n",
            "Requirement already satisfied: python-dateutil>=2.7 in /usr/local/lib/python3.10/dist-packages (from matplotlib) (2.8.2)\n",
            "Requirement already satisfied: wheel<1.0,>=0.23.0 in /usr/local/lib/python3.10/dist-packages (from astunparse>=1.6.0->tensorflow) (0.42.0)\n",
            "Requirement already satisfied: google-auth<3,>=1.6.3 in /usr/local/lib/python3.10/dist-packages (from tensorboard<2.16,>=2.15->tensorflow) (2.27.0)\n",
            "Requirement already satisfied: google-auth-oauthlib<2,>=0.5 in /usr/local/lib/python3.10/dist-packages (from tensorboard<2.16,>=2.15->tensorflow) (1.2.0)\n",
            "Requirement already satisfied: markdown>=2.6.8 in /usr/local/lib/python3.10/dist-packages (from tensorboard<2.16,>=2.15->tensorflow) (3.5.2)\n",
            "Requirement already satisfied: requests<3,>=2.21.0 in /usr/local/lib/python3.10/dist-packages (from tensorboard<2.16,>=2.15->tensorflow) (2.31.0)\n",
            "Requirement already satisfied: tensorboard-data-server<0.8.0,>=0.7.0 in /usr/local/lib/python3.10/dist-packages (from tensorboard<2.16,>=2.15->tensorflow) (0.7.2)\n",
            "Requirement already satisfied: werkzeug>=1.0.1 in /usr/local/lib/python3.10/dist-packages (from tensorboard<2.16,>=2.15->tensorflow) (3.0.1)\n",
            "Requirement already satisfied: cachetools<6.0,>=2.0.0 in /usr/local/lib/python3.10/dist-packages (from google-auth<3,>=1.6.3->tensorboard<2.16,>=2.15->tensorflow) (5.3.2)\n",
            "Requirement already satisfied: pyasn1-modules>=0.2.1 in /usr/local/lib/python3.10/dist-packages (from google-auth<3,>=1.6.3->tensorboard<2.16,>=2.15->tensorflow) (0.3.0)\n",
            "Requirement already satisfied: rsa<5,>=3.1.4 in /usr/local/lib/python3.10/dist-packages (from google-auth<3,>=1.6.3->tensorboard<2.16,>=2.15->tensorflow) (4.9)\n",
            "Requirement already satisfied: requests-oauthlib>=0.7.0 in /usr/local/lib/python3.10/dist-packages (from google-auth-oauthlib<2,>=0.5->tensorboard<2.16,>=2.15->tensorflow) (1.3.1)\n",
            "Requirement already satisfied: charset-normalizer<4,>=2 in /usr/local/lib/python3.10/dist-packages (from requests<3,>=2.21.0->tensorboard<2.16,>=2.15->tensorflow) (3.3.2)\n",
            "Requirement already satisfied: idna<4,>=2.5 in /usr/local/lib/python3.10/dist-packages (from requests<3,>=2.21.0->tensorboard<2.16,>=2.15->tensorflow) (3.6)\n",
            "Requirement already satisfied: urllib3<3,>=1.21.1 in /usr/local/lib/python3.10/dist-packages (from requests<3,>=2.21.0->tensorboard<2.16,>=2.15->tensorflow) (2.0.7)\n",
            "Requirement already satisfied: certifi>=2017.4.17 in /usr/local/lib/python3.10/dist-packages (from requests<3,>=2.21.0->tensorboard<2.16,>=2.15->tensorflow) (2024.2.2)\n",
            "Requirement already satisfied: MarkupSafe>=2.1.1 in /usr/local/lib/python3.10/dist-packages (from werkzeug>=1.0.1->tensorboard<2.16,>=2.15->tensorflow) (2.1.5)\n",
            "Requirement already satisfied: pyasn1<0.6.0,>=0.4.6 in /usr/local/lib/python3.10/dist-packages (from pyasn1-modules>=0.2.1->google-auth<3,>=1.6.3->tensorboard<2.16,>=2.15->tensorflow) (0.5.1)\n",
            "Requirement already satisfied: oauthlib>=3.0.0 in /usr/local/lib/python3.10/dist-packages (from requests-oauthlib>=0.7.0->google-auth-oauthlib<2,>=0.5->tensorboard<2.16,>=2.15->tensorflow) (3.2.2)\n",
            "Downloading data from https://storage.googleapis.com/tensorflow/tf-keras-datasets/mnist.npz\n",
            "11490434/11490434 [==============================] - 0s 0us/step\n",
            "Epoch 1/10\n",
            "750/750 [==============================] - 8s 6ms/step - loss: 0.2016 - accuracy: 0.9372 - val_loss: 0.0676 - val_accuracy: 0.9793\n",
            "Epoch 2/10\n",
            "750/750 [==============================] - 4s 6ms/step - loss: 0.0554 - accuracy: 0.9822 - val_loss: 0.0635 - val_accuracy: 0.9808\n",
            "Epoch 3/10\n",
            "750/750 [==============================] - 4s 5ms/step - loss: 0.0414 - accuracy: 0.9864 - val_loss: 0.0482 - val_accuracy: 0.9843\n",
            "Epoch 4/10\n",
            "750/750 [==============================] - 4s 5ms/step - loss: 0.0300 - accuracy: 0.9905 - val_loss: 0.0432 - val_accuracy: 0.9882\n",
            "Epoch 5/10\n",
            "750/750 [==============================] - 4s 6ms/step - loss: 0.0250 - accuracy: 0.9919 - val_loss: 0.0389 - val_accuracy: 0.9886\n",
            "Epoch 6/10\n",
            "750/750 [==============================] - 3s 5ms/step - loss: 0.0193 - accuracy: 0.9940 - val_loss: 0.0389 - val_accuracy: 0.9895\n",
            "Epoch 7/10\n",
            "750/750 [==============================] - 3s 5ms/step - loss: 0.0176 - accuracy: 0.9942 - val_loss: 0.0381 - val_accuracy: 0.9887\n",
            "Epoch 8/10\n",
            "750/750 [==============================] - 4s 6ms/step - loss: 0.0141 - accuracy: 0.9953 - val_loss: 0.0427 - val_accuracy: 0.9889\n",
            "Epoch 9/10\n",
            "750/750 [==============================] - 4s 5ms/step - loss: 0.0132 - accuracy: 0.9956 - val_loss: 0.0338 - val_accuracy: 0.9902\n",
            "Epoch 10/10\n",
            "750/750 [==============================] - 4s 5ms/step - loss: 0.0094 - accuracy: 0.9971 - val_loss: 0.0432 - val_accuracy: 0.9880\n",
            "313/313 [==============================] - 1s 3ms/step - loss: 0.0323 - accuracy: 0.9901\n",
            "Test accuracy: 0.9901000261306763\n"
          ]
        },
        {
          "output_type": "display_data",
          "data": {
            "text/plain": [
              "<Figure size 640x480 with 1 Axes>"
            ],
            "image/png": "[encoded data removed]"
          },
          "metadata": {}
        }
      ]
    },
    {
      "cell_type": "markdown",
      "source": [
        "implementing question 2: experimenting with the hyper parameters\n"
      ],
      "metadata": {
        "id": "KfJIeQE2f-d4"
      }
    },
    {
      "cell_type": "code",
      "source": [
        "from tensorflow.keras import layers, models\n",
        "\n",
        "# Function to create a model with specified filters\n",
        "def create_model(filter_list):\n",
        "    model = models.Sequential()\n",
        "    model.add(layers.Conv2D(filter_list[0], (3, 3), activation='relu', input_shape=(28, 28, 1)))\n",
        "    model.add(layers.MaxPooling2D((2, 2)))\n",
        "    model.add(layers.Conv2D(filter_list[1], (3, 3), activation='relu'))\n",
        "    model.add(layers.MaxPooling2D((2, 2)))\n",
        "    model.add(layers.Conv2D(filter_list[2], (3, 3), activation='relu'))\n",
        "    model.add(layers.Flatten())\n",
        "    model.add(layers.Dense(64, activation='relu'))\n",
        "    model.add(layers.Dense(10, activation='softmax'))\n",
        "    return model\n",
        "\n",
        "filter_configs = [\n",
        "    [16, 32, 32],  # Lower number of filters\n",
        "    [32, 64, 64],  # Original setup\n",
        "    [64, 128, 128] # Higher number of filters\n",
        "]\n",
        "\n",
        "for filters in filter_configs:\n",
        "    model = create_model(filters)\n",
        "    model.compile(optimizer='adam', loss='categorical_crossentropy', metrics=['accuracy'])\n",
        "    print(f\"Training model with filters: {filters}\")\n",
        "    model.fit(train_images, train_labels, epochs=5, batch_size=64, validation_split=0.2)\n",
        "    test_loss, test_acc = model.evaluate(test_images, test_labels)\n",
        "    print(f\"Test accuracy with filters {filters}: {test_acc}\\n\")\n"
      ],
      "metadata": {
        "colab": {
          "base_uri": "https://localhost:8080/"
        },
        "id": "MJJ1zw-qfUzS",
        "outputId": "603af604-7cb3-4c61-8a58-c6beedf5c8de"
      },
      "execution_count": 3,
      "outputs": [
        {
          "output_type": "stream",
          "name": "stdout",
          "text": [
            "Training model with filters: [16, 32, 32]\n",
            "Epoch 1/5\n",
            "750/750 [==============================] - 6s 5ms/step - loss: 0.2757 - accuracy: 0.9155 - val_loss: 0.1097 - val_accuracy: 0.9665\n",
            "Epoch 2/5\n",
            "750/750 [==============================] - 4s 5ms/step - loss: 0.0779 - accuracy: 0.9755 - val_loss: 0.0695 - val_accuracy: 0.9801\n",
            "Epoch 3/5\n",
            "750/750 [==============================] - 4s 5ms/step - loss: 0.0569 - accuracy: 0.9821 - val_loss: 0.0565 - val_accuracy: 0.9847\n",
            "Epoch 4/5\n",
            "750/750 [==============================] - 4s 5ms/step - loss: 0.0459 - accuracy: 0.9847 - val_loss: 0.0551 - val_accuracy: 0.9843\n",
            "Epoch 5/5\n",
            "750/750 [==============================] - 4s 5ms/step - loss: 0.0363 - accuracy: 0.9885 - val_loss: 0.0522 - val_accuracy: 0.9860\n",
            "313/313 [==============================] - 1s 3ms/step - loss: 0.0354 - accuracy: 0.9886\n",
            "Test accuracy with filters [16, 32, 32]: 0.9886000156402588\n",
            "\n",
            "Training model with filters: [32, 64, 64]\n",
            "Epoch 1/5\n",
            "750/750 [==============================] - 5s 5ms/step - loss: 0.2217 - accuracy: 0.9320 - val_loss: 0.0655 - val_accuracy: 0.9806\n",
            "Epoch 2/5\n",
            "750/750 [==============================] - 3s 4ms/step - loss: 0.0591 - accuracy: 0.9818 - val_loss: 0.0557 - val_accuracy: 0.9842\n",
            "Epoch 3/5\n",
            "750/750 [==============================] - 4s 5ms/step - loss: 0.0430 - accuracy: 0.9865 - val_loss: 0.0448 - val_accuracy: 0.9858\n",
            "Epoch 4/5\n",
            "750/750 [==============================] - 3s 4ms/step - loss: 0.0311 - accuracy: 0.9901 - val_loss: 0.0439 - val_accuracy: 0.9872\n",
            "Epoch 5/5\n",
            "750/750 [==============================] - 4s 5ms/step - loss: 0.0263 - accuracy: 0.9917 - val_loss: 0.0474 - val_accuracy: 0.9873\n",
            "313/313 [==============================] - 1s 3ms/step - loss: 0.0368 - accuracy: 0.9877\n",
            "Test accuracy with filters [32, 64, 64]: 0.9876999855041504\n",
            "\n",
            "Training model with filters: [64, 128, 128]\n",
            "Epoch 1/5\n",
            "750/750 [==============================] - 7s 6ms/step - loss: 0.1687 - accuracy: 0.9482 - val_loss: 0.0493 - val_accuracy: 0.9864\n",
            "Epoch 2/5\n",
            "750/750 [==============================] - 4s 5ms/step - loss: 0.0466 - accuracy: 0.9859 - val_loss: 0.0445 - val_accuracy: 0.9870\n",
            "Epoch 3/5\n",
            "750/750 [==============================] - 4s 6ms/step - loss: 0.0313 - accuracy: 0.9901 - val_loss: 0.0480 - val_accuracy: 0.9872\n",
            "Epoch 4/5\n",
            "750/750 [==============================] - 5s 6ms/step - loss: 0.0243 - accuracy: 0.9925 - val_loss: 0.0489 - val_accuracy: 0.9861\n",
            "Epoch 5/5\n",
            "750/750 [==============================] - 4s 6ms/step - loss: 0.0188 - accuracy: 0.9942 - val_loss: 0.0369 - val_accuracy: 0.9898\n",
            "313/313 [==============================] - 1s 3ms/step - loss: 0.0323 - accuracy: 0.9898\n",
            "Test accuracy with filters [64, 128, 128]: 0.989799976348877\n",
            "\n"
          ]
        }
      ]
    },
    {
      "cell_type": "code",
      "source": [
        "# Experiment with different kernel sizes\n",
        "kernel_sizes = [\n",
        "    (3, 3),  # Original setup\n",
        "    (5, 5),  # Larger kernels\n",
        "    (2, 2)   # Smaller kernels\n",
        "]\n",
        "\n",
        "# Function to create model with specified kernel size\n",
        "def create_model_kernel(kernel_size):\n",
        "    model = models.Sequential()\n",
        "    model.add(layers.Conv2D(32, kernel_size, activation='relu', padding='same', input_shape=(28, 28, 1)))  # Added padding='same'\n",
        "    model.add(layers.MaxPooling2D((2, 2)))\n",
        "    model.add(layers.Conv2D(64, kernel_size, activation='relu', padding='same'))  # Added padding='same'\n",
        "    model.add(layers.MaxPooling2D((2, 2)))\n",
        "    model.add(layers.Conv2D(64, kernel_size, activation='relu', padding='same'))  # Added padding='same'\n",
        "    model.add(layers.Flatten())\n",
        "    model.add(layers.Dense(64, activation='relu'))\n",
        "    model.add(layers.Dense(10, activation='softmax'))\n",
        "    return model\n",
        "\n",
        "for kernel_size in kernel_sizes:\n",
        "    model = create_model_kernel(kernel_size)\n",
        "    model.compile(optimizer='adam', loss='categorical_crossentropy', metrics=['accuracy'])\n",
        "    print(f\"Training model with kernel size: {kernel_size}\")\n",
        "    model.fit(train_images, train_labels, epochs=5, batch_size=64, validation_split=0.2)\n",
        "    test_loss, test_acc = model.evaluate(test_images, test_labels)\n",
        "    print(f\"Test accuracy with kernel size {kernel_size}: {test_acc}\\n\")\n",
        "\n"
      ],
      "metadata": {
        "colab": {
          "base_uri": "https://localhost:8080/"
        },
        "id": "vS8Yza1afU2X",
        "outputId": "8a9fef73-a012-44fb-8b77-59b4a5854377"
      },
      "execution_count": 7,
      "outputs": [
        {
          "output_type": "stream",
          "name": "stdout",
          "text": [
            "Training model with kernel size: (3, 3)\n",
            "Epoch 1/5\n",
            "750/750 [==============================] - 8s 6ms/step - loss: 0.1634 - accuracy: 0.9498 - val_loss: 0.0558 - val_accuracy: 0.9845\n",
            "Epoch 2/5\n",
            "750/750 [==============================] - 4s 5ms/step - loss: 0.0449 - accuracy: 0.9859 - val_loss: 0.0427 - val_accuracy: 0.9874\n",
            "Epoch 3/5\n",
            "750/750 [==============================] - 3s 5ms/step - loss: 0.0322 - accuracy: 0.9897 - val_loss: 0.0385 - val_accuracy: 0.9885\n",
            "Epoch 4/5\n",
            "750/750 [==============================] - 4s 5ms/step - loss: 0.0237 - accuracy: 0.9926 - val_loss: 0.0449 - val_accuracy: 0.9879\n",
            "Epoch 5/5\n",
            "750/750 [==============================] - 3s 5ms/step - loss: 0.0189 - accuracy: 0.9943 - val_loss: 0.0329 - val_accuracy: 0.9911\n",
            "313/313 [==============================] - 1s 3ms/step - loss: 0.0260 - accuracy: 0.9911\n",
            "Test accuracy with kernel size (3, 3): 0.991100013256073\n",
            "\n",
            "Training model with kernel size: (5, 5)\n",
            "Epoch 1/5\n",
            "750/750 [==============================] - 6s 5ms/step - loss: 0.1484 - accuracy: 0.9547 - val_loss: 0.0469 - val_accuracy: 0.9867\n",
            "Epoch 2/5\n",
            "750/750 [==============================] - 4s 6ms/step - loss: 0.0421 - accuracy: 0.9868 - val_loss: 0.0353 - val_accuracy: 0.9892\n",
            "Epoch 3/5\n",
            "750/750 [==============================] - 4s 5ms/step - loss: 0.0291 - accuracy: 0.9905 - val_loss: 0.0415 - val_accuracy: 0.9887\n",
            "Epoch 4/5\n",
            "750/750 [==============================] - 4s 5ms/step - loss: 0.0215 - accuracy: 0.9934 - val_loss: 0.0386 - val_accuracy: 0.9893\n",
            "Epoch 5/5\n",
            "750/750 [==============================] - 4s 6ms/step - loss: 0.0183 - accuracy: 0.9943 - val_loss: 0.0308 - val_accuracy: 0.9917\n",
            "313/313 [==============================] - 1s 4ms/step - loss: 0.0269 - accuracy: 0.9907\n",
            "Test accuracy with kernel size (5, 5): 0.9907000064849854\n",
            "\n",
            "Training model with kernel size: (2, 2)\n",
            "Epoch 1/5\n",
            "750/750 [==============================] - 6s 5ms/step - loss: 0.2242 - accuracy: 0.9316 - val_loss: 0.0761 - val_accuracy: 0.9786\n",
            "Epoch 2/5\n",
            "750/750 [==============================] - 4s 5ms/step - loss: 0.0620 - accuracy: 0.9805 - val_loss: 0.0519 - val_accuracy: 0.9846\n",
            "Epoch 3/5\n",
            "750/750 [==============================] - 4s 5ms/step - loss: 0.0429 - accuracy: 0.9863 - val_loss: 0.0454 - val_accuracy: 0.9863\n",
            "Epoch 4/5\n",
            "750/750 [==============================] - 3s 4ms/step - loss: 0.0321 - accuracy: 0.9896 - val_loss: 0.0422 - val_accuracy: 0.9870\n",
            "Epoch 5/5\n",
            "750/750 [==============================] - 4s 5ms/step - loss: 0.0248 - accuracy: 0.9917 - val_loss: 0.0389 - val_accuracy: 0.9900\n",
            "313/313 [==============================] - 1s 3ms/step - loss: 0.0332 - accuracy: 0.9893\n",
            "Test accuracy with kernel size (2, 2): 0.989300012588501\n",
            "\n"
          ]
        }
      ]
    },
    {
      "cell_type": "code",
      "source": [
        "# Experiment with different activation functions\n",
        "activation_functions = ['relu', 'sigmoid', 'tanh']\n",
        "\n",
        "# Function to create model with specified activation function\n",
        "def create_model_activation(activation):\n",
        "    model = models.Sequential()\n",
        "    model.add(layers.Conv2D(32, (3, 3), activation=activation, input_shape=(28, 28, 1)))\n",
        "    model.add(layers.MaxPooling2D((2, 2)))\n",
        "    model.add(layers.Conv2D(64, (3, 3), activation=activation))\n",
        "    model.add(layers.MaxPooling2D((2, 2)))\n",
        "    model.add(layers.Conv2D(64, (3, 3), activation=activation))\n",
        "    model.add(layers.Flatten())\n",
        "    model.add(layers.Dense(64, activation=activation))\n",
        "    model.add(layers.Dense(10, activation='softmax'))\n",
        "    return model\n",
        "\n",
        "for activation in activation_functions:\n",
        "    model = create_model_activation(activation)\n",
        "    model.compile(optimizer='adam', loss='categorical_crossentropy', metrics=['accuracy'])\n",
        "    print(f\"Training model with activation function: {activation}\")\n",
        "    model.fit(train_images, train_labels, epochs=5, batch_size=64, validation_split=0.2)\n",
        "    test_loss, test_acc = model.evaluate(test_images, test_labels)\n",
        "    print(f\"Test accuracy with activation function {activation}: {test_acc}\\n\")\n"
      ],
      "metadata": {
        "colab": {
          "base_uri": "https://localhost:8080/"
        },
        "id": "W_3-xtubfU30",
        "outputId": "86a34a6c-3084-43a7-96c6-67cecba38ddc"
      },
      "execution_count": 6,
      "outputs": [
        {
          "output_type": "stream",
          "name": "stdout",
          "text": [
            "Training model with activation function: relu\n",
            "Epoch 1/5\n",
            "750/750 [==============================] - 5s 5ms/step - loss: 0.2113 - accuracy: 0.9360 - val_loss: 0.0818 - val_accuracy: 0.9762\n",
            "Epoch 2/5\n",
            "750/750 [==============================] - 4s 5ms/step - loss: 0.0602 - accuracy: 0.9816 - val_loss: 0.0515 - val_accuracy: 0.9838\n",
            "Epoch 3/5\n",
            "750/750 [==============================] - 4s 6ms/step - loss: 0.0414 - accuracy: 0.9868 - val_loss: 0.0467 - val_accuracy: 0.9852\n",
            "Epoch 4/5\n",
            "750/750 [==============================] - 4s 5ms/step - loss: 0.0305 - accuracy: 0.9904 - val_loss: 0.0447 - val_accuracy: 0.9872\n",
            "Epoch 5/5\n",
            "750/750 [==============================] - 3s 5ms/step - loss: 0.0257 - accuracy: 0.9915 - val_loss: 0.0358 - val_accuracy: 0.9888\n",
            "313/313 [==============================] - 1s 3ms/step - loss: 0.0288 - accuracy: 0.9901\n",
            "Test accuracy with activation function relu: 0.9901000261306763\n",
            "\n",
            "Training model with activation function: sigmoid\n",
            "Epoch 1/5\n",
            "750/750 [==============================] - 6s 6ms/step - loss: 1.0654 - accuracy: 0.6472 - val_loss: 0.2299 - val_accuracy: 0.9384\n",
            "Epoch 2/5\n",
            "750/750 [==============================] - 3s 5ms/step - loss: 0.1738 - accuracy: 0.9515 - val_loss: 0.1202 - val_accuracy: 0.9660\n",
            "Epoch 3/5\n",
            "750/750 [==============================] - 3s 5ms/step - loss: 0.1032 - accuracy: 0.9705 - val_loss: 0.0857 - val_accuracy: 0.9747\n",
            "Epoch 4/5\n",
            "750/750 [==============================] - 5s 6ms/step - loss: 0.0749 - accuracy: 0.9784 - val_loss: 0.0698 - val_accuracy: 0.9780\n",
            "Epoch 5/5\n",
            "750/750 [==============================] - 4s 5ms/step - loss: 0.0618 - accuracy: 0.9822 - val_loss: 0.0608 - val_accuracy: 0.9808\n",
            "313/313 [==============================] - 1s 3ms/step - loss: 0.0523 - accuracy: 0.9832\n",
            "Test accuracy with activation function sigmoid: 0.9832000136375427\n",
            "\n",
            "Training model with activation function: tanh\n",
            "Epoch 1/5\n",
            "750/750 [==============================] - 6s 6ms/step - loss: 0.1852 - accuracy: 0.9466 - val_loss: 0.0676 - val_accuracy: 0.9817\n",
            "Epoch 2/5\n",
            "750/750 [==============================] - 3s 5ms/step - loss: 0.0579 - accuracy: 0.9833 - val_loss: 0.0535 - val_accuracy: 0.9854\n",
            "Epoch 3/5\n",
            "750/750 [==============================] - 3s 5ms/step - loss: 0.0397 - accuracy: 0.9882 - val_loss: 0.0482 - val_accuracy: 0.9859\n",
            "Epoch 4/5\n",
            "750/750 [==============================] - 4s 6ms/step - loss: 0.0311 - accuracy: 0.9906 - val_loss: 0.0477 - val_accuracy: 0.9862\n",
            "Epoch 5/5\n",
            "750/750 [==============================] - 4s 5ms/step - loss: 0.0238 - accuracy: 0.9931 - val_loss: 0.0426 - val_accuracy: 0.9877\n",
            "313/313 [==============================] - 1s 3ms/step - loss: 0.0313 - accuracy: 0.9897\n",
            "Test accuracy with activation function tanh: 0.9897000193595886\n",
            "\n"
          ]
        }
      ]
    },
    {
      "cell_type": "code",
      "source": [],
      "metadata": {
        "id": "2RdaQyYnfU6h"
      },
      "execution_count": null,
      "outputs": []
    },
    {
      "cell_type": "code",
      "source": [],
      "metadata": {
        "id": "PORu2lOVfU8A"
      },
      "execution_count": null,
      "outputs": []
    },
    {
      "cell_type": "code",
      "source": [],
      "metadata": {
        "id": "vRLqVU8wfU-6"
      },
      "execution_count": null,
      "outputs": []
    }
  ]
}